{
 "cells": [
  {
   "cell_type": "code",
   "execution_count": null,
   "id": "2e776235-4fbe-4f73-b8c1-fa859410ff11",
   "metadata": {},
   "outputs": [],
   "source": [
    "# Create a function that given a list which represents street lights \n",
    "# given as a parameter(lights), determine if an outage has occurred. \n",
    "# A street with a total number of \"F\" greater than or equal to 2 returns \n",
    "# \"Outage\", anything below returns \"Power\"\n",
    "\n",
    "# Example Input: lights = [ 'T', 'F', 'F', 'F' ]\t\t\t\t\n",
    "# Example Output: \"Outage\"\n",
    "\n",
    "# Example Input: lights = ['T', 'F', 'T']\n",
    "# Example Output: \"Power\""
   ]
  },
  {
   "cell_type": "code",
   "execution_count": 29,
   "id": "278f8b43-5a23-48a1-bfdc-543a1eeb0ec6",
   "metadata": {
    "tags": []
   },
   "outputs": [
    {
     "data": {
      "text/plain": [
       "'Outrage'"
      ]
     },
     "execution_count": 29,
     "metadata": {},
     "output_type": "execute_result"
    }
   ],
   "source": [
    "def power_out(lights):\n",
    "    count = 0\n",
    "    for x in lights:\n",
    "        if x == \"F\":\n",
    "            count += 1\n",
    "    if count >= 2:\n",
    "        return \"Outrage\"\n",
    "    else:\n",
    "        return \"Power\"\n",
    "    \n",
    "lights = [ 'T', 'F', 'F', 'F' ]\t\n",
    "lights2 = ['T', 'F', 'T']\n",
    "\n",
    "power_out(lights)"
   ]
  },
  {
   "cell_type": "code",
   "execution_count": 30,
   "id": "b5ef8058-6dde-48a6-abc0-04e42b7ae4c2",
   "metadata": {
    "tags": []
   },
   "outputs": [
    {
     "data": {
      "text/plain": [
       "'Outrage'"
      ]
     },
     "execution_count": 30,
     "metadata": {},
     "output_type": "execute_result"
    }
   ],
   "source": [
    "def power_out(lights):\n",
    "    count = 0\n",
    "    for x in lights:\n",
    "        if x == \"F\":\n",
    "            count += 1\n",
    "    return \"Outrage\" if count >=2 else \"Power\"\n",
    "    \n",
    "lights = [ 'T', 'F', 'F', 'F' ]\t\n",
    "lights2 = ['T', 'F', 'T']\n",
    "\n",
    "power_out(lights)"
   ]
  },
  {
   "cell_type": "code",
   "execution_count": 31,
   "id": "7a412ec0-a7da-44fa-99c1-90b7b58cf64b",
   "metadata": {
    "tags": []
   },
   "outputs": [
    {
     "data": {
      "text/plain": [
       "'Power'"
      ]
     },
     "execution_count": 31,
     "metadata": {},
     "output_type": "execute_result"
    }
   ],
   "source": [
    "def power_out(lights):\n",
    "    \n",
    "    return \"Outrage\" if sum(x == \"F\" for x in lights)  >= 2 else \"Power\"\n",
    "    \n",
    "lights = [ 'T', 'F', 'F', 'F', 'F', 'F', 'F']\t\n",
    "lights2 = ['T', 'F', 'T','T', 'T']\n",
    "\n",
    "power_out(lights2)"
   ]
  },
  {
   "cell_type": "code",
   "execution_count": null,
   "id": "89d4dd55-518b-46c8-9f03-8fc96b1fa4cc",
   "metadata": {},
   "outputs": [],
   "source": []
  }
 ],
 "metadata": {
  "kernelspec": {
   "display_name": "Python 3 (ipykernel)",
   "language": "python",
   "name": "python3"
  },
  "language_info": {
   "codemirror_mode": {
    "name": "ipython",
    "version": 3
   },
   "file_extension": ".py",
   "mimetype": "text/x-python",
   "name": "python",
   "nbconvert_exporter": "python",
   "pygments_lexer": "ipython3",
   "version": "3.11.5"
  }
 },
 "nbformat": 4,
 "nbformat_minor": 5
}
