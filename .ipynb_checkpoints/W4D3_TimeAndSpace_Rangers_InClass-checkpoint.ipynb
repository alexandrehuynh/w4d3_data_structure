{
 "cells": [
  {
   "cell_type": "markdown",
   "metadata": {},
   "source": [
    "# Time/Space Complexity - Intro to Data Structures (User Defined)\n",
    "\n",
    "### Topics to discuss today:\n",
    "\n",
    "<ul>\n",
    "    <li>Time and Space Complexity - What is it/How do we measure it</li>\n",
    "    <li>Asymptotic Analysis</li>\n",
    "    <li><strong>Data Structures</strong></li>\n",
    "</ul>\n",
    "\n",
    "### Data Structures to discuss:\n",
    "- Arrays\n",
    "- Stacks\n",
    "- Queues\n",
    "- Linked Lists\n",
    "    - Singly Linked Lists\n",
    "    - Traversing A Linked List\n",
    "    - Finding a node in a linked list\n",
    "    - Adding to a linked list\n"
   ]
  },
  {
   "cell_type": "markdown",
   "metadata": {},
   "source": [
    "## Time and Space Complexity\n",
    "\n",
    "#### What is it?\n",
    "\n",
    "Time and space complexity is the measure of how much time a given action(function) will take to solve a problem. In the same fashion, we determine how much a given data structure will need in terms of memory allocation. A problem can have multiple solutions and finding the optimal solution for the problem needs to be analyzed in time and space.\n",
    "\n",
    "#### How do we measure Time and Space Complexity?\n",
    "\n",
    "In order to measure time and space complexity we use Asymptotic analysis. The reason for this is because we need a way to measure different algorithms (functions) based on the size of their inputs in a mathmatical way. For example, we could have a function that is computed as f(n) and another that is g(n^2). All things around the function staying constant, the only thing that changes is the size of the input. Below is the chart that shows the different Asymptotic analysis formats. "
   ]
  },
  {
   "cell_type": "markdown",
   "metadata": {},
   "source": [
    "<table style=\"text-align:center;\" class=\"table table-bordered\">\n",
    "<tbody><tr>\n",
    "<td>constant</td>\n",
    "<td>−</td>\n",
    "<td>Ο(1)</td>\n",
    "</tr>\n",
    "<tr>\n",
    "<td>logarithmic</td>\n",
    "<td>−</td>\n",
    "<td>Ο(log n)</td>\n",
    "</tr>\n",
    "<tr>\n",
    "<td>linear</td>\n",
    "<td>−</td>\n",
    "<td>Ο(n)</td>\n",
    "</tr>\n",
    "<tr>\n",
    "<td>Linear Logarithmic</td>\n",
    "<td>−</td>\n",
    "<td>Ο(n log n)</td>\n",
    "</tr>\n",
    "<tr>\n",
    "<td>quadratic</td>\n",
    "<td>−</td>\n",
    "<td>Ο(n<sup>2</sup>)</td>\n",
    "</tr>\n",
    "<tr>\n",
    "<td>cubic</td>\n",
    "<td>−</td>\n",
    "<td>Ο(n<sup>3</sup>)</td>\n",
    "</tr>\n",
    "<tr>\n",
    "<td>polynomial</td>\n",
    "<td>−</td>\n",
    "<td>n<sup>Ο(1)</sup></td>\n",
    "</tr>\n",
    "<tr>\n",
    "<td>exponential</td>\n",
    "<td>−</td>\n",
    "<td>2<sup>Ο(n)</sup></td>\n",
    "</tr>\n",
    "</tbody></table>"
   ]
  },
  {
   "cell_type": "code",
   "execution_count": 6,
   "metadata": {
    "tags": []
   },
   "outputs": [
    {
     "name": "stdout",
     "output_type": "stream",
     "text": [
      "15\n",
      "11\n",
      "12\n",
      "8\n",
      "16\n",
      "12\n",
      "13\n",
      "9\n"
     ]
    }
   ],
   "source": [
    "# Constant time O(1)\n",
    "def add_nums(num1, num2):\n",
    "    return num1 + num2 # only performs one operation regardless of arguments passed in\n",
    "\n",
    "# Logarithmic O(log n)\n",
    "# Binary Search\n",
    "# breaking a list down into smaller parts and searching for an index\n",
    "\n",
    "def binary_search(array, target, left, right):\n",
    "    while left <= right:\n",
    "        middle = (left + right) // 2\n",
    "        potential_match = array[middle]\n",
    "        if target == potential_match:\n",
    "            return f\"The index is....{middle}\"\n",
    "        elif target < potential_match:\n",
    "            right = middle - 1\n",
    "        else:\n",
    "            left = middle + 1\n",
    "    return -1\n",
    "\n",
    "\n",
    "\n",
    "\n",
    "#O(n)\n",
    "#time increases with the number of inputs\n",
    "arr = [1, 2, 3, 4, 5]\n",
    "def print_num(arr):\n",
    "    for num in arr: \n",
    "        print(num)\n",
    "\n",
    "    \n",
    "# Linear Logarthimic O(n log n)\n",
    "# Merge Sort\n",
    "# .sort()\n",
    "# sorted()\n",
    "\n",
    "#Quadratic O(n^2)\n",
    "#any nested linear operations will be quadratic:\n",
    "# 2 loops nested inside each other\n",
    "def print_nums2(arr1, arr2):\n",
    "    for num in arr1:\n",
    "        for num2 in arr2:\n",
    "            print(num1 + num2)\n",
    "\n",
    "        \n",
    "# Cub O(n^3)\n",
    "# any triply nested linear operations\n",
    "def print_nums3(arr1, arr2, arr3):\n",
    "    for num1 in arr1:\n",
    "        for num2 in arr2:\n",
    "            for num3 in arr3:\n",
    "                print(num1 + num2 + num3)\n",
    "    \n",
    "print_nums3([1,2], [6,3], [8,4])\n"
   ]
  },
  {
   "cell_type": "markdown",
   "metadata": {},
   "source": [
    "## Arrays"
   ]
  },
  {
   "cell_type": "markdown",
   "metadata": {},
   "source": [
    "In python we benefit from the dynamic array which means the block of memory will expand as needed for the given input to the array. In traditional arrays (depending on the type of operating system) we will usually store our inputs in 4 or 8 consecutive blocks of memory. Below is a diagram of how that looks under the hood:\n",
    "\n",
    "## Which in python looks like this:\n",
    "\n",
    "\n",
    "<br><img src=\"http://www.cs.emory.edu/~cheung/Courses/170/Syllabus/09/FIGS/array02x.gif\" style=\"height:300px; width:450px;\"><br>"
   ]
  },
  {
   "cell_type": "markdown",
   "metadata": {},
   "source": [
    "### Let's take a look at some of the time and space analysis of arrays"
   ]
  },
  {
   "cell_type": "code",
   "execution_count": 2,
   "metadata": {
    "tags": []
   },
   "outputs": [
    {
     "name": "stdout",
     "output_type": "stream",
     "text": [
      "its here\n",
      "[1, 2, 3, 4, 5]\n",
      "[1, 2, 3, 7, 5]\n"
     ]
    }
   ],
   "source": [
    "# Indexing an Array (list)\n",
    "# Constant Time and Space\n",
    "# arr[i]\n",
    "my_list = [1,2,3,4,5]\n",
    "my_num = my_list[3]\n",
    "\n",
    "#Searching through an array\n",
    "#Linear Time O(n) and constant space O(1)\n",
    "if 1 in my_list:\n",
    "    print(\"its here\")\n",
    "\n",
    "    \n",
    "# Copying an array\n",
    "# Linear Time O(n) Linear Space O(n)\n",
    "my_list_copy = my_list[:]\n",
    "print(my_list_copy)\n",
    "empty_list = []\n",
    "for num in my_list:\n",
    "    empty_list.append(num)\n",
    "\n",
    "\n",
    "#Setting an index\n",
    "# Constant Time O(1) and Constant Space O(1)\n",
    "my_list[3] = 7 #not the same as inserting, we are assigning\n",
    "print(my_list)"
   ]
  },
  {
   "cell_type": "markdown",
   "metadata": {},
   "source": [
    "## Stacks and Queues\n",
    "\n",
    "** Stacks ** as the name suggests is a data structure that allows for data to follow the Last In First Out priciple(LIFO). Think of a stack of pancakes for example. To get the first pancake you would  start with the top and go down.\n",
    "\n",
    "##### Searching through a stack will be Linear Time O(n) - Constant Space O(1)\n",
    "##### Selecting the last item will be done in Constant Time O(1) - Constant Space O(1)\n",
    "##### Adding to the stack should take Constant Time O(1) - Constant Space O(1)\n",
    "\n",
    "** Queues ** are similar but in this case follow the First In First Out principle(FIFO). Think of this as a line in a black friday sale. The first person camped out for the big screen tv is the first to get it.\n",
    "\n",
    "##### Searching through a queue will be Linear Time O(n) - Constant Space O(1)\n",
    "##### Selecting the first item will be done in Constant Time O(1) - Constant Space O(1)\n",
    "##### Adding to the queue should take Constant Time O(1) - Constant Space O(1)"
   ]
  },
  {
   "cell_type": "code",
   "execution_count": 7,
   "metadata": {
    "tags": []
   },
   "outputs": [
    {
     "name": "stdout",
     "output_type": "stream",
     "text": [
      "['pancake1']\n",
      "['pancake1', 'pancakce2']\n",
      "['pancake1', 'pancakce2', 'pancake3']\n",
      "['pancake1', 'pancakce2', 'pancake3', 'pancake4']\n",
      "pancake4\n",
      "['pancake1', 'pancakce2', 'pancake3']\n",
      "pancake3\n",
      "['pancake1', 'pancakce2']\n"
     ]
    }
   ],
   "source": [
    "# Stacks\n",
    "stack = ['pancake1']\n",
    "print(stack)\n",
    "stack.append(\"pancakce2\")\n",
    "print(stack)\n",
    "stack.append('pancake3')\n",
    "print(stack)\n",
    "stack.append('pancake4')\n",
    "print(stack)\n",
    "print(stack.pop())\n",
    "print(stack)\n",
    "print(stack.pop())\n",
    "print(stack)"
   ]
  },
  {
   "cell_type": "code",
   "execution_count": 10,
   "metadata": {
    "tags": []
   },
   "outputs": [
    {
     "name": "stdout",
     "output_type": "stream",
     "text": [
      "['shopper']\n",
      "['shopper', 'shopper2']\n",
      "['shopper', 'shopper2', 'shopper3']\n",
      "['shopper', 'shopper2', 'shopper3', 'shopper4']\n",
      "shopper\n",
      "['shopper2', 'shopper3', 'shopper4']\n",
      "shopper2\n",
      "['shopper3', 'shopper4']\n"
     ]
    }
   ],
   "source": [
    "#queue\n",
    "queue = [\"shopper\"]\n",
    "print(queue)\n",
    "queue.append(\"shopper2\")\n",
    "print(queue)\n",
    "queue.append(\"shopper3\")\n",
    "print(queue)\n",
    "queue.append(\"shopper4\")\n",
    "print(queue)\n",
    "\n",
    "print(queue.pop(0))\n",
    "print(queue)\n",
    "print(queue.pop(0))\n",
    "print(queue)"
   ]
  },
  {
   "cell_type": "code",
   "execution_count": 18,
   "metadata": {
    "tags": []
   },
   "outputs": [
    {
     "name": "stdout",
     "output_type": "stream",
     "text": [
      "deque([])\n",
      "deque(['pancake1'])\n",
      "deque(['pancake2', 'pancake1'])\n",
      "deque(['pancake3', 'pancake2', 'pancake1'])\n",
      "deque(['pancake4', 'pancake3', 'pancake2', 'pancake1'])\n",
      "pancake4\n",
      "deque(['pancake3', 'pancake2', 'pancake1'])\n",
      "pancake3\n",
      "deque(['pancake2', 'pancake1'])\n"
     ]
    }
   ],
   "source": [
    "from collections import deque\n",
    "#Stack \n",
    "#first pancake in, last pancake out\n",
    "stack = deque()\n",
    "print(stack)\n",
    "\n",
    "stack.appendleft(\"pancake1\")\n",
    "print(stack)\n",
    "stack.appendleft(\"pancake2\")\n",
    "print(stack)\n",
    "stack.appendleft(\"pancake3\")\n",
    "print(stack)\n",
    "stack.appendleft(\"pancake4\")\n",
    "print(stack)\n",
    "print(stack.popleft())\n",
    "print(stack)\n",
    "print(stack.popleft())\n",
    "print(stack)"
   ]
  },
  {
   "cell_type": "code",
   "execution_count": 19,
   "metadata": {
    "tags": []
   },
   "outputs": [
    {
     "name": "stdout",
     "output_type": "stream",
     "text": [
      "deque(['shopper'])\n",
      "deque(['shopper2', 'shopper'])\n",
      "deque(['shopper3', 'shopper2', 'shopper'])\n",
      "deque(['shopper4', 'shopper3', 'shopper2', 'shopper'])\n",
      "shopper\n",
      "deque(['shopper4', 'shopper3', 'shopper2'])\n",
      "shopper2\n",
      "deque(['shopper4', 'shopper3'])\n"
     ]
    }
   ],
   "source": [
    "from collections import deque\n",
    "#Queue\n",
    "# first shopper in, first shopper out\n",
    "queue = deque()\n",
    "# dir(queue)\n",
    "queue.appendleft(\"shopper\")\n",
    "print(queue)\n",
    "queue.appendleft(\"shopper2\")\n",
    "print(queue)\n",
    "queue.appendleft(\"shopper3\")\n",
    "print(queue)\n",
    "queue.appendleft(\"shopper4\")\n",
    "print(queue)\n",
    "\n",
    "print(queue.pop())\n",
    "print(queue)\n",
    "print(queue.pop())\n",
    "print(queue)"
   ]
  },
  {
   "cell_type": "code",
   "execution_count": null,
   "metadata": {},
   "outputs": [],
   "source": []
  },
  {
   "cell_type": "markdown",
   "metadata": {},
   "source": [
    "# Sum of Parts Time Compelxity Exercise"
   ]
  },
  {
   "cell_type": "code",
   "execution_count": null,
   "metadata": {
    "tags": []
   },
   "outputs": [],
   "source": [
    "#sum of parts\n",
    "https://www.codewars.com/kata/5ce399e0047a45001c853c2b"
   ]
  },
  {
   "cell_type": "code",
   "execution_count": null,
   "metadata": {},
   "outputs": [],
   "source": [
    "# Let us consider this example (array written in general format):\n",
    "\n",
    "# ls = [0, 1, 3, 6, 10]\n",
    "\n",
    "# Its following parts:\n",
    "\n",
    "# ls = [0, 1, 3, 6, 10]\n",
    "# ls = [1, 3, 6, 10]\n",
    "# ls = [3, 6, 10]\n",
    "# ls = [6, 10]\n",
    "# ls = [10]\n",
    "# ls = []\n",
    "# The corresponding sums are (put together in a list): [20, 20, 19, 16, 10, 0]\n",
    "\n",
    "# The function parts_sums (or its variants in other languages) will take as parameter a list ls and return a list of the sums of its parts as defined above.\n",
    "\n",
    "# Other Examples:\n",
    "# ls = [1, 2, 3, 4, 5, 6] \n",
    "# parts_sums(ls) -> [21, 20, 18, 15, 11, 6, 0]\n",
    "\n",
    "# ls = [744125, 935, 407, 454, 430, 90, 144, 6710213, 889, 810, 2579358]\n",
    "# parts_sums(ls) -> [10037855, 9293730, 9292795, 9292388, 9291934, 9291504, 9291414, 9291270, 2581057, 2580168, 2579358, 0]"
   ]
  },
  {
   "cell_type": "code",
   "execution_count": 69,
   "metadata": {
    "tags": []
   },
   "outputs": [
    {
     "data": {
      "text/plain": [
       "[20, 20, 19, 16, 10, 0]"
      ]
     },
     "execution_count": 69,
     "metadata": {},
     "output_type": "execute_result"
    }
   ],
   "source": [
    "ls = [0, 1, 3, 6, 10]\n",
    "ls2 = [1, 2, 3, 4, 5, 6] \n",
    "ls3 = [744125, 935, 407, 454, 430, 90, 144, 6710213, 889, 810, 2579358]\n",
    "ls4 = [21, 24, 23, 30, 12, 10, 8, 2, 32, 15]\n",
    "\n",
    "def parts_sums(ls):\n",
    "    \n",
    "    sum_list = [sum(ls)]\n",
    "    \n",
    "    for x in range(len(ls)):\n",
    "        ls.pop(0)\n",
    "        sum_list.append(sum(ls))\n",
    "        \n",
    "    return sum_list\n",
    "\n",
    "parts_sums(ls)"
   ]
  },
  {
   "cell_type": "code",
   "execution_count": 70,
   "metadata": {
    "tags": []
   },
   "outputs": [
    {
     "data": {
      "text/plain": [
       "[21, 20, 18, 15, 11, 6, 0]"
      ]
     },
     "execution_count": 70,
     "metadata": {},
     "output_type": "execute_result"
    }
   ],
   "source": [
    "def parts_sums(ls):\n",
    "    \n",
    "    total_sum = sum(ls)\n",
    "    sum_list = [total_sum]\n",
    "    \n",
    "    for num in ls:\n",
    "        total_sum -= num\n",
    "        sum_list.append(total_sum)\n",
    "        \n",
    "    return sum_list\n",
    "\n",
    "parts_sums(ls2)"
   ]
  },
  {
   "cell_type": "code",
   "execution_count": 71,
   "metadata": {
    "tags": []
   },
   "outputs": [
    {
     "data": {
      "text/plain": [
       "[10037855,\n",
       " 9293730,\n",
       " 9292795,\n",
       " 9292388,\n",
       " 9291934,\n",
       " 9291504,\n",
       " 9291414,\n",
       " 9291270,\n",
       " 2581057,\n",
       " 2580168,\n",
       " 2579358,\n",
       " 0]"
      ]
     },
     "execution_count": 71,
     "metadata": {},
     "output_type": "execute_result"
    }
   ],
   "source": [
    "from collections import deque\n",
    "\n",
    "def parts_sums(ls):\n",
    "    \n",
    "    ls = deque(ls)\n",
    "    sum_list = deque()\n",
    "\n",
    "    total_sum = sum(ls)\n",
    "    sum_list.append(total_sum)\n",
    "\n",
    "    for _ in range(len(ls)):\n",
    "        total_sum -= ls.popleft()\n",
    "        sum_list.append(total_sum)\n",
    "\n",
    "    return list(sum_list)\n",
    "\n",
    "parts_sums(ls3)"
   ]
  },
  {
   "cell_type": "code",
   "execution_count": 72,
   "metadata": {
    "tags": []
   },
   "outputs": [
    {
     "data": {
      "text/plain": [
       "[177, 156, 132, 109, 79, 67, 57, 49, 47, 15, 0]"
      ]
     },
     "execution_count": 72,
     "metadata": {},
     "output_type": "execute_result"
    }
   ],
   "source": [
    "from collections import deque\n",
    "\n",
    "def parts_sums(ls):\n",
    "    \n",
    "    ls_deque = deque(ls)\n",
    "    sum_list = deque()\n",
    "\n",
    "    current_sum = sum(ls_deque)\n",
    "    sum_list.append(current_sum)\n",
    "\n",
    "    while ls_deque:\n",
    "        current_sum -= ls_deque.popleft()\n",
    "        sum_list.append(current_sum)\n",
    "\n",
    "    return list(sum_list)\n",
    "\n",
    "parts_sums(ls4)"
   ]
  },
  {
   "cell_type": "markdown",
   "metadata": {},
   "source": [
    "## Linked List (Data Structure)\n",
    "\n",
    "A linked list is created by using the node class. We create a Node object and create another class to use this node object. We pass the appropriate values thorugh the node object to point the to the next data elements.\n",
    "\n",
    "There are some advantages and disadvantages with this data structure. **Advantages** Linked Lists can save memory because they can be flexibile with memory management which saves memory. **Disadvantages** Finding or adding to the list requires traversing the entire list."
   ]
  },
  {
   "cell_type": "code",
   "execution_count": 1,
   "metadata": {},
   "outputs": [],
   "source": [
    "# A complete implementation of a linked list\n",
    "\n",
    "# 2 components to the structure\n",
    "# Node class\n",
    "# Linked List Class\n",
    "# node class\n",
    "\n",
    "#Node class\n",
    "class Node():\n",
    "    def __init__(self, value):\n",
    "        self.value = value\n",
    "        self.next = None\n",
    "        \n",
    "#LinkedList class\n",
    "class LinkedList():\n",
    "    def __init__(self):\n",
    "        self.head = None\n",
    "        \n",
    "    #pushOn - place item at the head of the list -- the beginning\n",
    "    def pushOn(self, new_value):\n",
    "        new_node = Node(new_value)\n",
    "        new_node.next = self.head\n",
    "        self.head = new_node\n",
    "        \n",
    "    #insertAfter - place a node after another in the linked list\n",
    "#     def insertAfter(self, prev_node, new_value):\n",
    "#         #check if the previous node exists\n",
    "#         if prev_node is None:\n",
    "#             print(\"The given node must not be empty\")\n",
    "#             return\n",
    "#         #if the prev_node is not empty, we create a new node\n",
    "#         new_node = Node(new_value)\n",
    "        \n",
    "#         # update the new node's next pointer to point to the prev_node's next\n",
    "#         new_node.next = prev_node.next\n",
    "        \n",
    "#         #update pre_node's next to new_node\n",
    "#         prev_node.next = new_node\n",
    "\n",
    "\n",
    "    def insertKnownPosition(self, position, new_value):\n",
    "        \n",
    "        #creating the new node\n",
    "        new_node = Node(new_value)\n",
    "        \n",
    "        #starting at the beginning of the linked list\n",
    "        current_node = self.head\n",
    "        next_node = current_node.next\n",
    "        \n",
    "        #traversing linked list until we get to our position we want to insert\n",
    "        for i in range(position - 1):\n",
    "            current_node = next_node\n",
    "            next_node = current_node.next\n",
    "            \n",
    "        new_node.next = current_node.next\n",
    "        current_node.next = new_node \n",
    "        \n",
    "        \n",
    "    def deleteNode(self, value):\n",
    "        \n",
    "        #starting at the beginningh of the linked list\n",
    "        current_node = self.head\n",
    "        next_node = current_node.next\n",
    "        \n",
    "        #traversing until we get to the node that is the same as our value\n",
    "        while current_node.value != value and next_node.next:\n",
    "            print(current_node.value)\n",
    "            prev_node = current_node\n",
    "            current_node = next_node\n",
    "            next_node = current_node.next \n",
    "               \n",
    "        #if we've reached the end of our linked list and value was not found\n",
    "        if not next_node.next and current_node.value != value:\n",
    "            return \"Value does not exist\"\n",
    "        \n",
    "        #setting the previous nodes next to the next node and delete our current node \n",
    "        prev_node.next = next_node \n",
    "        del current_node\n",
    "        \n",
    "        \n",
    "    #append(add) a new node to the END of the linked list\n",
    "    def append_(self, new_value):\n",
    "        #create our new node\n",
    "        new_node = Node(new_value)\n",
    "        \n",
    "        #Check if the linked list is empty\n",
    "        #if it is, make this new node the head node(beginning of the list)\n",
    "        if self.head is None:\n",
    "            self.head = new_node\n",
    "            \n",
    "        #if not empty, traverse our linked list and append to the end\n",
    "        last = self.head\n",
    "        \n",
    "        ##change current last to the new value, and continuously check for an empty next\n",
    "        while last.next:\n",
    "            last = last.next\n",
    "        \n",
    "        \n",
    "        #change the current last node next value to point to the new value\n",
    "        last.next = new_node\n",
    "        \n",
    "        \n",
    "    #traverse - move through the linked list\n",
    "    def traverse(self):\n",
    "        temp = self.head\n",
    "        #while temp is NOT NONE --> keep on truckin through the list until it is none\n",
    "        while temp:\n",
    "            print(temp.value)\n",
    "            temp = temp.next\n",
    "        print(\"end of list\")"
   ]
  },
  {
   "cell_type": "code",
   "execution_count": 3,
   "metadata": {
    "tags": []
   },
   "outputs": [],
   "source": [
    "weekdays_list = LinkedList()\n",
    "weekdays_list.pushOn(\"Monday\")\n",
    "\n",
    "weekdays_list.append_(\"Wednesday\")\n",
    "weekdays_list.insertKnownPosition(1, \"Tuesday\")\n",
    "weekdays_list.append_(\"Friday\")\n",
    "weekdays_list.insertKnownPosition(3, \"Thursday\")\n",
    "# weekdays_list.insertAfter(weekdays_list.head.next.next, \"Thursday\")\n",
    "weekdays_list.pushOn(\"Sunday\")\n",
    "weekdays_list.append_(\"Saturday\")"
   ]
  },
  {
   "cell_type": "code",
   "execution_count": 4,
   "metadata": {
    "tags": []
   },
   "outputs": [
    {
     "name": "stdout",
     "output_type": "stream",
     "text": [
      "Sunday\n",
      "Monday\n",
      "Tuesday\n",
      "Wednesday\n",
      "Thursday\n",
      "Friday\n",
      "Saturday\n",
      "end of list\n"
     ]
    }
   ],
   "source": [
    "weekdays_list.traverse()"
   ]
  },
  {
   "cell_type": "code",
   "execution_count": 5,
   "metadata": {
    "tags": []
   },
   "outputs": [
    {
     "name": "stdout",
     "output_type": "stream",
     "text": [
      "Sunday\n",
      "Monday\n",
      "Tuesday\n"
     ]
    }
   ],
   "source": [
    "weekdays_list.deleteNode(\"Wednesday\")"
   ]
  },
  {
   "cell_type": "code",
   "execution_count": 6,
   "metadata": {
    "tags": []
   },
   "outputs": [
    {
     "name": "stdout",
     "output_type": "stream",
     "text": [
      "Sunday\n",
      "Monday\n",
      "Tuesday\n",
      "Thursday\n",
      "Friday\n",
      "Saturday\n",
      "end of list\n"
     ]
    }
   ],
   "source": [
    "weekdays_list.traverse()"
   ]
  },
  {
   "cell_type": "code",
   "execution_count": 7,
   "metadata": {
    "tags": []
   },
   "outputs": [
    {
     "name": "stdout",
     "output_type": "stream",
     "text": [
      "Sunday\n",
      "Monday\n",
      "Tuesday\n",
      "Thursday\n"
     ]
    }
   ],
   "source": [
    "weekdays_list.deleteNode(\"Friday\")"
   ]
  },
  {
   "cell_type": "code",
   "execution_count": null,
   "metadata": {},
   "outputs": [],
   "source": []
  },
  {
   "cell_type": "markdown",
   "metadata": {},
   "source": [
    "# CODEWAR HOMEWORK"
   ]
  },
  {
   "cell_type": "markdown",
   "metadata": {
    "tags": []
   },
   "source": [
    "Who likes it?\n",
    "https://www.codewars.com/kata/5266876b8f4bf2da9b000362"
   ]
  },
  {
   "cell_type": "code",
   "execution_count": 9,
   "metadata": {
    "tags": []
   },
   "outputs": [],
   "source": [
    "def likes(names):\n",
    "    \n",
    "    n = len(names)\n",
    "    return {\n",
    "        0: 'no one likes this',\n",
    "        1: '{} likes this', \n",
    "        2: '{} and {} like this', \n",
    "        3: '{}, {} and {} like this', \n",
    "        4: '{}, {} and {others} others like this'\n",
    "    }[min(4, n)].format(*names[:3], others=n-2)\n",
    "    \n",
    "### The space and time complexity of this is both linear or O(n). The reason why this is linear time complexity\n",
    "# is because we only iterate through the elements in the list once. For space complexity, it only creates a creation of the list and its proportionate\n",
    "\n",
    "\n",
    "### PREVIOUS SOLUTION ###\n",
    "\n",
    "#     # find the length of the list\n",
    "#     n = len(names)\n",
    "    \n",
    "#     # case: empty\n",
    "#     if n == 0:\n",
    "#         return f\"no one likes this\"\n",
    "#     # case: 1 person\n",
    "#     if n == 1:\n",
    "#         return f\"{names[0]} likes this\"\n",
    "#     # case: 2 people\n",
    "#     if n == 2:\n",
    "#         return f\"{names[0]} and {names[1]} like this\"\n",
    "#     # case: 3 people\n",
    "#     if n == 3:\n",
    "#         return f\"{names[0]}, {names[1]} and {names[2]} like this\"\n",
    "#     # case: 4+ people\n",
    "#     if n >= 4:\n",
    "#         return f\"{names[0]}, {names[1]} and {len(names) - 2} others like this\""
   ]
  },
  {
   "cell_type": "markdown",
   "metadata": {},
   "source": [
    "Decode the Morse code https://www.codewars.com/kata/54b724efac3d5402db00065e/train/python/6594f218fbfb3ad442b09635"
   ]
  },
  {
   "cell_type": "code",
   "execution_count": 11,
   "metadata": {
    "tags": []
   },
   "outputs": [],
   "source": [
    "def decode_morse(morse_code):\n",
    "    words = morse_code.strip().split('   ')\n",
    "    decoded_words = []\n",
    "\n",
    "    for word in words:\n",
    "        characters = word.split()\n",
    "        decoded_word = ''.join(MORSE_CODE[char] for char in characters if char in MORSE_CODE)\n",
    "        decoded_words.append(decoded_word)\n",
    "\n",
    "    return ' '.join(decoded_words)\n",
    "      \n",
    "    \n",
    "### This is a linear time complexity arises because the function iterates through each \n",
    "# character of the input exactly once.This a linear space complexity because the lists of words\n",
    "# and charcater total size is proortional to the size of the input string\n",
    "    \n",
    "    \n",
    "## PREVIOUS CODE ###\n",
    "#     words = morse_code.strip().split('   ')\n",
    "    \n",
    "#     decoded_message = ''  \n",
    "    \n",
    "#     for word in words:\n",
    "#         characters = word.split(' ')        \n",
    "#         word_translation = '' \n",
    "        \n",
    "#         for char in characters:\n",
    "#             if char in MORSE_CODE:\n",
    "#                 letter = MORSE_CODE[char]\n",
    "#                 word_translation += letter  \n",
    "\n",
    "#         decoded_message += word_translation + ' '\n",
    "    \n",
    "#     return decoded_message.strip()\n",
    "\n",
    "#     pass\n"
   ]
  },
  {
   "cell_type": "markdown",
   "metadata": {},
   "source": [
    "The Hashtag Generator https://www.codewars.com/kata/52449b062fb80683ec000024"
   ]
  },
  {
   "cell_type": "code",
   "execution_count": 13,
   "metadata": {
    "tags": []
   },
   "outputs": [],
   "source": [
    "def generate_hashtag(s):\n",
    "    \n",
    "    output = \"#\"\n",
    "    \n",
    "    for word in s.split():\n",
    "        output += word.capitalize()\n",
    "    \n",
    "    return False if (len(s) == 0 or len(output) > 140) else output\n",
    "    \n",
    "    \n",
    "## Time and space complexity is linear O(n). The time complexity is determined by the split method and \n",
    "# iterating over the list once. The space complexity is determined by the output string. it grows linearly with the size of the input string s.\n",
    "    \n",
    "    \n",
    "    \n",
    "#     hashtag = []\n",
    "    \n",
    "#     if not s:\n",
    "#         return False\n",
    "    \n",
    "#     # string, split the string into individual strings (list)\n",
    "#     words = s.split()\n",
    "#     # list word in the words\n",
    "#     for word in words:\n",
    "#         cap_word = word.capitalize()\n",
    "#         hashtag.append(cap_word)\n",
    "#     # assign it to a variable\n",
    "#     hashtag_words = \"#\" + ''.join(hashtag)\n",
    "    \n",
    "#     return hashtag_words if len(hashtag_words) <= 140 else False"
   ]
  }
 ],
 "metadata": {
  "kernelspec": {
   "display_name": "Python 3 (ipykernel)",
   "language": "python",
   "name": "python3"
  },
  "language_info": {
   "codemirror_mode": {
    "name": "ipython",
    "version": 3
   },
   "file_extension": ".py",
   "mimetype": "text/x-python",
   "name": "python",
   "nbconvert_exporter": "python",
   "pygments_lexer": "ipython3",
   "version": "3.11.5"
  }
 },
 "nbformat": 4,
 "nbformat_minor": 4
}
